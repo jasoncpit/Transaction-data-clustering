{
 "cells": [
  {
   "cell_type": "markdown",
   "id": "b2b57a02",
   "metadata": {},
   "source": [
    "# Transaction data clustering \n",
    "\n",
    "\n",
    "Clustering is a data mining technique that entails grouping similar types of data or queries together in order to facilitate the identification of related subject areas. It can be used to segment markets, employees, footballers or products and is a powerful way to discover hidden relationships in data. There are several well-known clustering algorithms that everyone is familiar with, including K-means, DBSCAN, and hierarchical clustering. However, the primary issue with transactional data, which includes market basket data, financial orders, point-of-sale transaction records, and web logs, is that they frequently contain large collections of categorical data of varying sizes. In this context, the majority of traditional approaches to segmenting discrete valued data into meaningful and representative clusters may become unsuitable and difficult.\n",
    "\n",
    "\n",
    "To ensure reproducibility, I'll be utilising Instacart Orders as the primary dataset. I'll do my best in this notebook to compare and evaluate various algorithms for clustering categorical data (if possible?). The primary goal of this project is to efficiently group large database of transaction records and to find interesting and meaningful buying habits of the customers. \n",
    "\n",
    "Cool, cool, cool... \n",
    "\n",
    "Right, the main algorithms that I'll be looking at are: \n",
    "\n",
    "- K modes \n",
    "- RObust Clustering using LinKs \n",
    "- CLOPE\n",
    "- COOLCAT \n",
    "- Product2vec (Word2vec derivatives) \n",
    "- Latent Dirichlet Allocation\n",
    "- Graph mining & Community detection\n",
    "\n",
    "\n",
    "Visit https://www.kaggle.com/c/instacart-market-basket-analysis for more information. \n",
    "\n"
   ]
  },
  {
   "cell_type": "markdown",
   "id": "2e34ac77",
   "metadata": {},
   "source": [
    "# Instacart data & Data Preperation"
   ]
  },
  {
   "cell_type": "code",
   "execution_count": 1,
   "id": "fca1ba71",
   "metadata": {},
   "outputs": [],
   "source": [
    "#Import libraries \n",
    "import numpy as np \n",
    "import pandas as pd \n",
    "import matplotlib.pyplot as plt \n",
    "import seaborn as sns "
   ]
  },
  {
   "cell_type": "code",
   "execution_count": 2,
   "id": "300cd9dc",
   "metadata": {},
   "outputs": [],
   "source": [
    "#load data\n",
    "directory = \"/Users/jasonsmacbook/Documents/GitHub/Transaction-data-clustering/instacart-market-basket-analysis/\"\n",
    "orders = pd.read_csv(directory + 'orders.csv' )\n",
    "products = pd.read_csv(directory + 'products.csv')\n",
    "order_products_prior = pd.read_csv(directory + 'order_products__prior.csv')\n",
    "aisles = pd.read_csv(directory + 'aisles.csv')"
   ]
  },
  {
   "cell_type": "markdown",
   "id": "7cd1bfd6",
   "metadata": {},
   "source": [
    "# RObust Clustering using LinKs\n",
    "\n",
    "The first "
   ]
  },
  {
   "cell_type": "code",
   "execution_count": null,
   "id": "1e005a21",
   "metadata": {},
   "outputs": [],
   "source": []
  }
 ],
 "metadata": {
  "kernelspec": {
   "display_name": "Python 3.9.7 64-bit ('base': conda)",
   "language": "python",
   "name": "python397jvsc74a57bd0606a0d0b0cc2bb5e2816c467e48d68f8a31f06ce9717e825ca4bfc6401ff2ddc"
  },
  "language_info": {
   "codemirror_mode": {
    "name": "ipython",
    "version": 3
   },
   "file_extension": ".py",
   "mimetype": "text/x-python",
   "name": "python",
   "nbconvert_exporter": "python",
   "pygments_lexer": "ipython3",
   "version": "3.9.7"
  }
 },
 "nbformat": 4,
 "nbformat_minor": 5
}
